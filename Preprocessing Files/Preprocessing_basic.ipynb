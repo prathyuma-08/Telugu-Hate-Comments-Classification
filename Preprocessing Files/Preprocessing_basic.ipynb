{
  "nbformat": 4,
  "nbformat_minor": 0,
  "metadata": {
    "colab": {
      "provenance": []
    },
    "kernelspec": {
      "name": "python3",
      "display_name": "Python 3"
    },
    "language_info": {
      "name": "python"
    }
  },
  "cells": [
    {
      "cell_type": "markdown",
      "source": [
        "# Install Packages and Import Libraries"
      ],
      "metadata": {
        "id": "MEaygMfhQyR9"
      }
    },
    {
      "cell_type": "code",
      "source": [
        "!pip install indic_nlp_library"
      ],
      "metadata": {
        "colab": {
          "base_uri": "https://localhost:8080/"
        },
        "id": "cp5w0UJaMYZ_",
        "outputId": "c463e687-71b5-49de-beaf-d35e20e3cafd"
      },
      "execution_count": null,
      "outputs": [
        {
          "output_type": "stream",
          "name": "stdout",
          "text": [
            "Collecting indic_nlp_library\n",
            "  Downloading indic_nlp_library-0.92-py3-none-any.whl (40 kB)\n",
            "\u001b[?25l     \u001b[90m━━━━━━━━━━━━━━━━━━━━━━━━━━━━━━━━━━━━━━━━\u001b[0m \u001b[32m0.0/40.3 kB\u001b[0m \u001b[31m?\u001b[0m eta \u001b[36m-:--:--\u001b[0m\r\u001b[2K     \u001b[90m━━━━━━━━━━━━━━━━━━━━━━━━━━━━━━━━━━━━━━━━\u001b[0m \u001b[32m40.3/40.3 kB\u001b[0m \u001b[31m1.2 MB/s\u001b[0m eta \u001b[36m0:00:00\u001b[0m\n",
            "\u001b[?25hCollecting sphinx-argparse (from indic_nlp_library)\n",
            "  Downloading sphinx_argparse-0.4.0-py3-none-any.whl (12 kB)\n",
            "Collecting sphinx-rtd-theme (from indic_nlp_library)\n",
            "  Downloading sphinx_rtd_theme-1.3.0-py2.py3-none-any.whl (2.8 MB)\n",
            "\u001b[2K     \u001b[90m━━━━━━━━━━━━━━━━━━━━━━━━━━━━━━━━━━━━━━━━\u001b[0m \u001b[32m2.8/2.8 MB\u001b[0m \u001b[31m35.4 MB/s\u001b[0m eta \u001b[36m0:00:00\u001b[0m\n",
            "\u001b[?25hCollecting morfessor (from indic_nlp_library)\n",
            "  Downloading Morfessor-2.0.6-py3-none-any.whl (35 kB)\n",
            "Requirement already satisfied: pandas in /usr/local/lib/python3.10/dist-packages (from indic_nlp_library) (1.5.3)\n",
            "Requirement already satisfied: numpy in /usr/local/lib/python3.10/dist-packages (from indic_nlp_library) (1.23.5)\n",
            "Requirement already satisfied: python-dateutil>=2.8.1 in /usr/local/lib/python3.10/dist-packages (from pandas->indic_nlp_library) (2.8.2)\n",
            "Requirement already satisfied: pytz>=2020.1 in /usr/local/lib/python3.10/dist-packages (from pandas->indic_nlp_library) (2023.3.post1)\n",
            "Requirement already satisfied: sphinx>=1.2.0 in /usr/local/lib/python3.10/dist-packages (from sphinx-argparse->indic_nlp_library) (5.0.2)\n",
            "Requirement already satisfied: docutils<0.19 in /usr/local/lib/python3.10/dist-packages (from sphinx-rtd-theme->indic_nlp_library) (0.18.1)\n",
            "Collecting sphinxcontrib-jquery<5,>=4 (from sphinx-rtd-theme->indic_nlp_library)\n",
            "  Downloading sphinxcontrib_jquery-4.1-py2.py3-none-any.whl (121 kB)\n",
            "\u001b[2K     \u001b[90m━━━━━━━━━━━━━━━━━━━━━━━━━━━━━━━━━━━━━━━━\u001b[0m \u001b[32m121.1/121.1 kB\u001b[0m \u001b[31m13.9 MB/s\u001b[0m eta \u001b[36m0:00:00\u001b[0m\n",
            "\u001b[?25hRequirement already satisfied: six>=1.5 in /usr/local/lib/python3.10/dist-packages (from python-dateutil>=2.8.1->pandas->indic_nlp_library) (1.16.0)\n",
            "Requirement already satisfied: sphinxcontrib-applehelp in /usr/local/lib/python3.10/dist-packages (from sphinx>=1.2.0->sphinx-argparse->indic_nlp_library) (1.0.7)\n",
            "Requirement already satisfied: sphinxcontrib-devhelp in /usr/local/lib/python3.10/dist-packages (from sphinx>=1.2.0->sphinx-argparse->indic_nlp_library) (1.0.5)\n",
            "Requirement already satisfied: sphinxcontrib-jsmath in /usr/local/lib/python3.10/dist-packages (from sphinx>=1.2.0->sphinx-argparse->indic_nlp_library) (1.0.1)\n",
            "Requirement already satisfied: sphinxcontrib-htmlhelp>=2.0.0 in /usr/local/lib/python3.10/dist-packages (from sphinx>=1.2.0->sphinx-argparse->indic_nlp_library) (2.0.4)\n",
            "Requirement already satisfied: sphinxcontrib-serializinghtml>=1.1.5 in /usr/local/lib/python3.10/dist-packages (from sphinx>=1.2.0->sphinx-argparse->indic_nlp_library) (1.1.9)\n",
            "Requirement already satisfied: sphinxcontrib-qthelp in /usr/local/lib/python3.10/dist-packages (from sphinx>=1.2.0->sphinx-argparse->indic_nlp_library) (1.0.6)\n",
            "Requirement already satisfied: Jinja2>=2.3 in /usr/local/lib/python3.10/dist-packages (from sphinx>=1.2.0->sphinx-argparse->indic_nlp_library) (3.1.2)\n",
            "Requirement already satisfied: Pygments>=2.0 in /usr/local/lib/python3.10/dist-packages (from sphinx>=1.2.0->sphinx-argparse->indic_nlp_library) (2.16.1)\n",
            "Requirement already satisfied: snowballstemmer>=1.1 in /usr/local/lib/python3.10/dist-packages (from sphinx>=1.2.0->sphinx-argparse->indic_nlp_library) (2.2.0)\n",
            "Requirement already satisfied: babel>=1.3 in /usr/local/lib/python3.10/dist-packages (from sphinx>=1.2.0->sphinx-argparse->indic_nlp_library) (2.13.1)\n",
            "Requirement already satisfied: alabaster<0.8,>=0.7 in /usr/local/lib/python3.10/dist-packages (from sphinx>=1.2.0->sphinx-argparse->indic_nlp_library) (0.7.13)\n",
            "Requirement already satisfied: imagesize in /usr/local/lib/python3.10/dist-packages (from sphinx>=1.2.0->sphinx-argparse->indic_nlp_library) (1.4.1)\n",
            "Requirement already satisfied: requests>=2.5.0 in /usr/local/lib/python3.10/dist-packages (from sphinx>=1.2.0->sphinx-argparse->indic_nlp_library) (2.31.0)\n",
            "Requirement already satisfied: packaging in /usr/local/lib/python3.10/dist-packages (from sphinx>=1.2.0->sphinx-argparse->indic_nlp_library) (23.2)\n",
            "Requirement already satisfied: MarkupSafe>=2.0 in /usr/local/lib/python3.10/dist-packages (from Jinja2>=2.3->sphinx>=1.2.0->sphinx-argparse->indic_nlp_library) (2.1.3)\n",
            "Requirement already satisfied: charset-normalizer<4,>=2 in /usr/local/lib/python3.10/dist-packages (from requests>=2.5.0->sphinx>=1.2.0->sphinx-argparse->indic_nlp_library) (3.3.1)\n",
            "Requirement already satisfied: idna<4,>=2.5 in /usr/local/lib/python3.10/dist-packages (from requests>=2.5.0->sphinx>=1.2.0->sphinx-argparse->indic_nlp_library) (3.4)\n",
            "Requirement already satisfied: urllib3<3,>=1.21.1 in /usr/local/lib/python3.10/dist-packages (from requests>=2.5.0->sphinx>=1.2.0->sphinx-argparse->indic_nlp_library) (2.0.7)\n",
            "Requirement already satisfied: certifi>=2017.4.17 in /usr/local/lib/python3.10/dist-packages (from requests>=2.5.0->sphinx>=1.2.0->sphinx-argparse->indic_nlp_library) (2023.7.22)\n",
            "Installing collected packages: morfessor, sphinxcontrib-jquery, sphinx-rtd-theme, sphinx-argparse, indic_nlp_library\n",
            "Successfully installed indic_nlp_library-0.92 morfessor-2.0.6 sphinx-argparse-0.4.0 sphinx-rtd-theme-1.3.0 sphinxcontrib-jquery-4.1\n"
          ]
        }
      ]
    },
    {
      "cell_type": "code",
      "source": [
        "!pip install openpyxl"
      ],
      "metadata": {
        "colab": {
          "base_uri": "https://localhost:8080/"
        },
        "id": "kW8620WxR8KR",
        "outputId": "b15d5e7c-9775-4f20-b5ef-19a7f959fb96"
      },
      "execution_count": null,
      "outputs": [
        {
          "output_type": "stream",
          "name": "stdout",
          "text": [
            "Requirement already satisfied: openpyxl in /usr/local/lib/python3.10/dist-packages (3.1.2)\n",
            "Requirement already satisfied: et-xmlfile in /usr/local/lib/python3.10/dist-packages (from openpyxl) (1.1.0)\n"
          ]
        }
      ]
    },
    {
      "cell_type": "code",
      "source": [
        "import pandas as pd\n",
        "import re\n",
        "from indicnlp.tokenize import indic_tokenize\n",
        "from textblob import TextBlob"
      ],
      "metadata": {
        "id": "EBesCifidFsZ"
      },
      "execution_count": null,
      "outputs": []
    },
    {
      "cell_type": "code",
      "source": [
        "pd.set_option('display.max_colwidth', None)"
      ],
      "metadata": {
        "id": "lEPkmkyWSIgG"
      },
      "execution_count": null,
      "outputs": []
    },
    {
      "cell_type": "markdown",
      "source": [
        "# Import Data"
      ],
      "metadata": {
        "id": "liH8eIQnc1FO"
      }
    },
    {
      "cell_type": "code",
      "execution_count": null,
      "metadata": {
        "colab": {
          "base_uri": "https://localhost:8080/"
        },
        "id": "Ies1PrV8cWl9",
        "outputId": "1a043315-55fc-4080-c89d-507516be683b"
      },
      "outputs": [
        {
          "output_type": "stream",
          "name": "stdout",
          "text": [
            "Downloading...\n",
            "From: https://drive.google.com/uc?id=1qmnFqNUqa6O48ETaj4zzEOMGkzgaQAnl\n",
            "To: /content/Task_Tg_G1.zip\n",
            "\r  0% 0.00/268k [00:00<?, ?B/s]\r100% 268k/268k [00:00<00:00, 106MB/s]\n"
          ]
        }
      ],
      "source": [
        "!gdown --fuzzy https://drive.google.com/file/d/1qmnFqNUqa6O48ETaj4zzEOMGkzgaQAnl/view?usp=sharing"
      ]
    },
    {
      "cell_type": "code",
      "source": [
        "!unzip /content/Task_Tg_G1.zip"
      ],
      "metadata": {
        "colab": {
          "base_uri": "https://localhost:8080/"
        },
        "id": "zMESZvJXcxeA",
        "outputId": "db9beb87-ed22-47a8-ea3d-f9a48fecc11f"
      },
      "execution_count": null,
      "outputs": [
        {
          "output_type": "stream",
          "name": "stdout",
          "text": [
            "Archive:  /content/Task_Tg_G1.zip\n",
            "  inflating: test_data_telugu-hate.xlsx  \n",
            "  inflating: __MACOSX/._test_data_telugu-hate.xlsx  \n",
            "  inflating: training_data_telugu-hate.xlsx  \n",
            "  inflating: __MACOSX/._training_data_telugu-hate.xlsx  \n"
          ]
        }
      ]
    },
    {
      "cell_type": "code",
      "source": [
        "def classify(text):\n",
        "    if re.match(r'^[అ-఺\\ా-౿\\s0-9]*$', text):\n",
        "        return 'Telugu'\n",
        "    elif re.match(r'^[a-zA-Z\\s0-9]*$', text):\n",
        "        return 'English'\n",
        "    elif re.match(r'^[అ-఺\\ా-౿a-zA-Z\\s0-9]*$', text):\n",
        "        return 'Mixed'\n",
        "    else:\n",
        "        return 'Unknown'"
      ],
      "metadata": {
        "id": "QkB7qJVqF944"
      },
      "execution_count": null,
      "outputs": []
    },
    {
      "cell_type": "code",
      "source": [
        "def tokenizer(text):\n",
        "    tokens = indic_tokenize.trivial_tokenize(text)\n",
        "    return tokens"
      ],
      "metadata": {
        "id": "ymebGrm2L3DF"
      },
      "execution_count": null,
      "outputs": []
    },
    {
      "cell_type": "code",
      "source": [
        "def preprocess_text(text):\n",
        "    cleaned_text = re.sub(r'[^\\w\\s]', '', text)\n",
        "    cleaned_text = re.sub(r'\\s+', ' ', cleaned_text).strip()\n",
        "    cleaned_text = cleaned_text.replace('\\n', ' ')\n",
        "    lang_type = classify(text)\n",
        "    tokenized_comments = tokenizer(cleaned_text)\n",
        "    return cleaned_text, lang_type, tokenized_comments"
      ],
      "metadata": {
        "id": "jvM5hx_vPQbz"
      },
      "execution_count": null,
      "outputs": []
    },
    {
      "cell_type": "code",
      "source": [
        "df_train = pd.read_excel(\"/content/training_data_telugu-hate.xlsx\")\n",
        "df_test= pd.read_excel(\"/content/test_data_telugu-hate.xlsx\")"
      ],
      "metadata": {
        "id": "4pY9csyuPaAh"
      },
      "execution_count": null,
      "outputs": []
    },
    {
      "cell_type": "code",
      "source": [
        "df_train['Label'].value_counts()"
      ],
      "metadata": {
        "colab": {
          "base_uri": "https://localhost:8080/"
        },
        "id": "vLQCC700dRZX",
        "outputId": "7776711b-cf19-4846-ecf1-095d71c6a961"
      },
      "execution_count": null,
      "outputs": [
        {
          "output_type": "execute_result",
          "data": {
            "text/plain": [
              "non-hate    1661\n",
              "hate        1539\n",
              "Name: Label, dtype: int64"
            ]
          },
          "metadata": {},
          "execution_count": 11
        }
      ]
    },
    {
      "cell_type": "code",
      "source": [
        "df_test['Label'].value_counts()"
      ],
      "metadata": {
        "colab": {
          "base_uri": "https://localhost:8080/"
        },
        "id": "Dh4VUl6sRixF",
        "outputId": "4a5b731e-17c7-45f9-9109-44c3fa7b4397"
      },
      "execution_count": null,
      "outputs": [
        {
          "output_type": "execute_result",
          "data": {
            "text/plain": [
              "non-hate    400\n",
              "hate        400\n",
              "Name: Label, dtype: int64"
            ]
          },
          "metadata": {},
          "execution_count": 12
        }
      ]
    },
    {
      "cell_type": "code",
      "source": [
        "df_train.shape"
      ],
      "metadata": {
        "colab": {
          "base_uri": "https://localhost:8080/"
        },
        "id": "O4Ptr6OAdNM_",
        "outputId": "bdb5e649-1587-49dd-a862-6bf21d1f861d"
      },
      "execution_count": null,
      "outputs": [
        {
          "output_type": "execute_result",
          "data": {
            "text/plain": [
              "(3200, 3)"
            ]
          },
          "metadata": {},
          "execution_count": 13
        }
      ]
    },
    {
      "cell_type": "code",
      "source": [
        "df_test.shape"
      ],
      "metadata": {
        "colab": {
          "base_uri": "https://localhost:8080/"
        },
        "id": "bFHC5dTzRkg7",
        "outputId": "ad5b0df6-5cb4-43db-f605-103d1f113321"
      },
      "execution_count": null,
      "outputs": [
        {
          "output_type": "execute_result",
          "data": {
            "text/plain": [
              "(800, 3)"
            ]
          },
          "metadata": {},
          "execution_count": 14
        }
      ]
    },
    {
      "cell_type": "code",
      "source": [
        "df_train['clean_data_Comments'], df_train['lang_type'], df_train['tokenized_comments'] = zip(*df_train['Comments'].apply(preprocess_text))\n",
        "df_test['clean_data_Comments'], df_test['lang_type'], df_test['tokenized_comments'] = zip(*df_test['Comments'].apply(preprocess_text))"
      ],
      "metadata": {
        "id": "JmynJ4iHO4CF"
      },
      "execution_count": null,
      "outputs": []
    },
    {
      "cell_type": "code",
      "source": [
        "df_train['lang_type'].value_counts()"
      ],
      "metadata": {
        "colab": {
          "base_uri": "https://localhost:8080/"
        },
        "id": "o_OacNHcHV6x",
        "outputId": "24196aba-0c87-43d0-8e06-8d89664d0288"
      },
      "execution_count": null,
      "outputs": [
        {
          "output_type": "execute_result",
          "data": {
            "text/plain": [
              "Unknown    1902\n",
              "English    1176\n",
              "Telugu       94\n",
              "Mixed        28\n",
              "Name: lang_type, dtype: int64"
            ]
          },
          "metadata": {},
          "execution_count": 16
        }
      ]
    },
    {
      "cell_type": "code",
      "source": [
        "df_train['lang_type'].value_counts()"
      ],
      "metadata": {
        "id": "wvjSheY7x0WA",
        "outputId": "c8049649-0d2e-4178-ea19-13b47d3c6b45",
        "colab": {
          "base_uri": "https://localhost:8080/"
        }
      },
      "execution_count": null,
      "outputs": [
        {
          "output_type": "execute_result",
          "data": {
            "text/plain": [
              "Unknown    1902\n",
              "English    1176\n",
              "Telugu       94\n",
              "Mixed        28\n",
              "Name: lang_type, dtype: int64"
            ]
          },
          "metadata": {},
          "execution_count": 23
        }
      ]
    },
    {
      "cell_type": "code",
      "source": [
        "df_test['lang_type'].value_counts()"
      ],
      "metadata": {
        "colab": {
          "base_uri": "https://localhost:8080/"
        },
        "id": "HZ-Y4w63RoUf",
        "outputId": "89b5b8c0-48f3-49ff-b275-7cc0b2fa10c6"
      },
      "execution_count": null,
      "outputs": [
        {
          "output_type": "execute_result",
          "data": {
            "text/plain": [
              "Unknown    493\n",
              "English    272\n",
              "Telugu      30\n",
              "Mixed        5\n",
              "Name: lang_type, dtype: int64"
            ]
          },
          "metadata": {},
          "execution_count": 17
        }
      ]
    },
    {
      "cell_type": "code",
      "source": [
        "\n",
        "df_train.head()"
      ],
      "metadata": {
        "colab": {
          "base_uri": "https://localhost:8080/",
          "height": 744
        },
        "id": "7mMf4tZ3RHmY",
        "outputId": "d3ade328-63a2-497c-c544-27931d89c8a6"
      },
      "execution_count": null,
      "outputs": [
        {
          "output_type": "execute_result",
          "data": {
            "text/plain": [
              "        S.No  \\\n",
              "0  HATE_2857   \n",
              "1  HATE_2969   \n",
              "2  HATE_1985   \n",
              "3  HATE_2974   \n",
              "4  HATE_2810   \n",
              "\n",
              "                                                                                                                                                                                                                                                         Comments  \\\n",
              "0  \\nDr YNM\\n1 month ago\\nఇందులో మనం పెద్దగా ఆలోచించాల్సిన అవసరం లేదు. అంతా కాలం మహిమ.ఏదో ఒకరోజు కాలం ఆయనకు ఇవ్వవలసిన గిఫ్ట్ తప్పకుండా ఇస్తుంది. చేసిన కర్మలు అనుభవించక తప్పదు.. సోనియా గాంధీ అయినా, మోదీ అయినా, చంద్రబాబు నాయుడు అయినా, జగన్ అయినా.. కాలం అంతే..   \n",
              "1                                                                                                                                          \\nlakshmankumar kavali\\nNext Step is tdp vallu money print cheyakunda adukuntunaru ane press meet pette mare chepatadu   \n",
              "2                                                                                                \\n​trs party lo telangana kosam poradina valle unnara poratam ki vyatirekam ga unnollani ministers ala chesinaru..gurivinda ginja ki kinda unna macha kanapadadu   \n",
              "3                                                                                                                                                                                          \\nఅన్నయ్య ప్రింటింగ్ మిషన్ ద్వారా 6093 కోట్ల రూపాయలు వన్ డే ప్రింటింగ్   \n",
              "4                                                                                                                                                                                                       \\nఏముంది పదవికోసం గుధ్ధ కూడా నాకేస్తారు ఈ రాజకీయ రాబందులు   \n",
              "\n",
              "      Label  \\\n",
              "0  non-hate   \n",
              "1  non-hate   \n",
              "2  non-hate   \n",
              "3  non-hate   \n",
              "4  non-hate   \n",
              "\n",
              "                                                                                                                                                 clean_data_Comments  \\\n",
              "0  Dr YNM 1 month ago ఇదల మన పదదగ ఆలచచలసన అవసర లద అత కల మహమఏద ఒకరజ కల ఆయనక ఇవవవలసన గఫట తపపకడ ఇసతద చసన కరమల అనభవచక తపపద సనయ గధ అయన మద అయన చదరబబ నయడ అయన జగన అయన కల అత   \n",
              "1                                                lakshmankumar kavali Next Step is tdp vallu money print cheyakunda adukuntunaru ane press meet pette mare chepatadu   \n",
              "2        trs party lo telangana kosam poradina valle unnara poratam ki vyatirekam ga unnollani ministers ala chesinarugurivinda ginja ki kinda unna macha kanapadadu   \n",
              "3                                                                                                                         అననయయ పరటగ మషన దవర 6093 కటల రపయల వన డ పరటగ   \n",
              "4                                                                                                                                 ఏమద పదవకస గధధ కడ నకసతర ఈ రజకయ రబదల   \n",
              "\n",
              "  lang_type  \\\n",
              "0   Unknown   \n",
              "1   English   \n",
              "2   Unknown   \n",
              "3   Unknown   \n",
              "4   Unknown   \n",
              "\n",
              "                                                                                                                                                                                        tokenized_comments  \n",
              "0  [Dr, YNM, 1, month, ago, ఇదల, మన, పదదగ, ఆలచచలసన, అవసర, లద, అత, కల, మహమఏద, ఒకరజ, కల, ఆయనక, ఇవవవలసన, గఫట, తపపకడ, ఇసతద, చసన, కరమల, అనభవచక, తపపద, సనయ, గధ, అయన, మద, అయన, చదరబబ, నయడ, అయన, జగన, అయన, కల, అత]  \n",
              "1                                                                    [lakshmankumar, kavali, Next, Step, is, tdp, vallu, money, print, cheyakunda, adukuntunaru, ane, press, meet, pette, mare, chepatadu]  \n",
              "2                       [trs, party, lo, telangana, kosam, poradina, valle, unnara, poratam, ki, vyatirekam, ga, unnollani, ministers, ala, chesinarugurivinda, ginja, ki, kinda, unna, macha, kanapadadu]  \n",
              "3                                                                                                                                                    [అననయయ, పరటగ, మషన, దవర, 6093, కటల, రపయల, వన, డ, పరటగ]  \n",
              "4                                                                                                                                                              [ఏమద, పదవకస, గధధ, కడ, నకసతర, ఈ, రజకయ, రబదల]  "
            ],
            "text/html": [
              "\n",
              "  <div id=\"df-86138958-5abd-4117-a808-12f7bcbc31e7\" class=\"colab-df-container\">\n",
              "    <div>\n",
              "<style scoped>\n",
              "    .dataframe tbody tr th:only-of-type {\n",
              "        vertical-align: middle;\n",
              "    }\n",
              "\n",
              "    .dataframe tbody tr th {\n",
              "        vertical-align: top;\n",
              "    }\n",
              "\n",
              "    .dataframe thead th {\n",
              "        text-align: right;\n",
              "    }\n",
              "</style>\n",
              "<table border=\"1\" class=\"dataframe\">\n",
              "  <thead>\n",
              "    <tr style=\"text-align: right;\">\n",
              "      <th></th>\n",
              "      <th>S.No</th>\n",
              "      <th>Comments</th>\n",
              "      <th>Label</th>\n",
              "      <th>clean_data_Comments</th>\n",
              "      <th>lang_type</th>\n",
              "      <th>tokenized_comments</th>\n",
              "    </tr>\n",
              "  </thead>\n",
              "  <tbody>\n",
              "    <tr>\n",
              "      <th>0</th>\n",
              "      <td>HATE_2857</td>\n",
              "      <td>\\nDr YNM\\n1 month ago\\nఇందులో మనం పెద్దగా ఆలోచించాల్సిన అవసరం లేదు. అంతా కాలం మహిమ.ఏదో ఒకరోజు కాలం ఆయనకు ఇవ్వవలసిన గిఫ్ట్ తప్పకుండా ఇస్తుంది. చేసిన కర్మలు అనుభవించక తప్పదు.. సోనియా గాంధీ అయినా, మోదీ అయినా, చంద్రబాబు నాయుడు అయినా, జగన్ అయినా.. కాలం అంతే..</td>\n",
              "      <td>non-hate</td>\n",
              "      <td>Dr YNM 1 month ago ఇదల మన పదదగ ఆలచచలసన అవసర లద అత కల మహమఏద ఒకరజ కల ఆయనక ఇవవవలసన గఫట తపపకడ ఇసతద చసన కరమల అనభవచక తపపద సనయ గధ అయన మద అయన చదరబబ నయడ అయన జగన అయన కల అత</td>\n",
              "      <td>Unknown</td>\n",
              "      <td>[Dr, YNM, 1, month, ago, ఇదల, మన, పదదగ, ఆలచచలసన, అవసర, లద, అత, కల, మహమఏద, ఒకరజ, కల, ఆయనక, ఇవవవలసన, గఫట, తపపకడ, ఇసతద, చసన, కరమల, అనభవచక, తపపద, సనయ, గధ, అయన, మద, అయన, చదరబబ, నయడ, అయన, జగన, అయన, కల, అత]</td>\n",
              "    </tr>\n",
              "    <tr>\n",
              "      <th>1</th>\n",
              "      <td>HATE_2969</td>\n",
              "      <td>\\nlakshmankumar kavali\\nNext Step is tdp vallu money print cheyakunda adukuntunaru ane press meet pette mare chepatadu</td>\n",
              "      <td>non-hate</td>\n",
              "      <td>lakshmankumar kavali Next Step is tdp vallu money print cheyakunda adukuntunaru ane press meet pette mare chepatadu</td>\n",
              "      <td>English</td>\n",
              "      <td>[lakshmankumar, kavali, Next, Step, is, tdp, vallu, money, print, cheyakunda, adukuntunaru, ane, press, meet, pette, mare, chepatadu]</td>\n",
              "    </tr>\n",
              "    <tr>\n",
              "      <th>2</th>\n",
              "      <td>HATE_1985</td>\n",
              "      <td>\\n​trs party lo telangana kosam poradina valle unnara poratam ki vyatirekam ga unnollani ministers ala chesinaru..gurivinda ginja ki kinda unna macha kanapadadu</td>\n",
              "      <td>non-hate</td>\n",
              "      <td>trs party lo telangana kosam poradina valle unnara poratam ki vyatirekam ga unnollani ministers ala chesinarugurivinda ginja ki kinda unna macha kanapadadu</td>\n",
              "      <td>Unknown</td>\n",
              "      <td>[trs, party, lo, telangana, kosam, poradina, valle, unnara, poratam, ki, vyatirekam, ga, unnollani, ministers, ala, chesinarugurivinda, ginja, ki, kinda, unna, macha, kanapadadu]</td>\n",
              "    </tr>\n",
              "    <tr>\n",
              "      <th>3</th>\n",
              "      <td>HATE_2974</td>\n",
              "      <td>\\nఅన్నయ్య ప్రింటింగ్ మిషన్ ద్వారా 6093 కోట్ల రూపాయలు వన్ డే ప్రింటింగ్</td>\n",
              "      <td>non-hate</td>\n",
              "      <td>అననయయ పరటగ మషన దవర 6093 కటల రపయల వన డ పరటగ</td>\n",
              "      <td>Unknown</td>\n",
              "      <td>[అననయయ, పరటగ, మషన, దవర, 6093, కటల, రపయల, వన, డ, పరటగ]</td>\n",
              "    </tr>\n",
              "    <tr>\n",
              "      <th>4</th>\n",
              "      <td>HATE_2810</td>\n",
              "      <td>\\nఏముంది పదవికోసం గుధ్ధ కూడా నాకేస్తారు ఈ రాజకీయ రాబందులు</td>\n",
              "      <td>non-hate</td>\n",
              "      <td>ఏమద పదవకస గధధ కడ నకసతర ఈ రజకయ రబదల</td>\n",
              "      <td>Unknown</td>\n",
              "      <td>[ఏమద, పదవకస, గధధ, కడ, నకసతర, ఈ, రజకయ, రబదల]</td>\n",
              "    </tr>\n",
              "  </tbody>\n",
              "</table>\n",
              "</div>\n",
              "    <div class=\"colab-df-buttons\">\n",
              "\n",
              "  <div class=\"colab-df-container\">\n",
              "    <button class=\"colab-df-convert\" onclick=\"convertToInteractive('df-86138958-5abd-4117-a808-12f7bcbc31e7')\"\n",
              "            title=\"Convert this dataframe to an interactive table.\"\n",
              "            style=\"display:none;\">\n",
              "\n",
              "  <svg xmlns=\"http://www.w3.org/2000/svg\" height=\"24px\" viewBox=\"0 -960 960 960\">\n",
              "    <path d=\"M120-120v-720h720v720H120Zm60-500h600v-160H180v160Zm220 220h160v-160H400v160Zm0 220h160v-160H400v160ZM180-400h160v-160H180v160Zm440 0h160v-160H620v160ZM180-180h160v-160H180v160Zm440 0h160v-160H620v160Z\"/>\n",
              "  </svg>\n",
              "    </button>\n",
              "\n",
              "  <style>\n",
              "    .colab-df-container {\n",
              "      display:flex;\n",
              "      gap: 12px;\n",
              "    }\n",
              "\n",
              "    .colab-df-convert {\n",
              "      background-color: #E8F0FE;\n",
              "      border: none;\n",
              "      border-radius: 50%;\n",
              "      cursor: pointer;\n",
              "      display: none;\n",
              "      fill: #1967D2;\n",
              "      height: 32px;\n",
              "      padding: 0 0 0 0;\n",
              "      width: 32px;\n",
              "    }\n",
              "\n",
              "    .colab-df-convert:hover {\n",
              "      background-color: #E2EBFA;\n",
              "      box-shadow: 0px 1px 2px rgba(60, 64, 67, 0.3), 0px 1px 3px 1px rgba(60, 64, 67, 0.15);\n",
              "      fill: #174EA6;\n",
              "    }\n",
              "\n",
              "    .colab-df-buttons div {\n",
              "      margin-bottom: 4px;\n",
              "    }\n",
              "\n",
              "    [theme=dark] .colab-df-convert {\n",
              "      background-color: #3B4455;\n",
              "      fill: #D2E3FC;\n",
              "    }\n",
              "\n",
              "    [theme=dark] .colab-df-convert:hover {\n",
              "      background-color: #434B5C;\n",
              "      box-shadow: 0px 1px 3px 1px rgba(0, 0, 0, 0.15);\n",
              "      filter: drop-shadow(0px 1px 2px rgba(0, 0, 0, 0.3));\n",
              "      fill: #FFFFFF;\n",
              "    }\n",
              "  </style>\n",
              "\n",
              "    <script>\n",
              "      const buttonEl =\n",
              "        document.querySelector('#df-86138958-5abd-4117-a808-12f7bcbc31e7 button.colab-df-convert');\n",
              "      buttonEl.style.display =\n",
              "        google.colab.kernel.accessAllowed ? 'block' : 'none';\n",
              "\n",
              "      async function convertToInteractive(key) {\n",
              "        const element = document.querySelector('#df-86138958-5abd-4117-a808-12f7bcbc31e7');\n",
              "        const dataTable =\n",
              "          await google.colab.kernel.invokeFunction('convertToInteractive',\n",
              "                                                    [key], {});\n",
              "        if (!dataTable) return;\n",
              "\n",
              "        const docLinkHtml = 'Like what you see? Visit the ' +\n",
              "          '<a target=\"_blank\" href=https://colab.research.google.com/notebooks/data_table.ipynb>data table notebook</a>'\n",
              "          + ' to learn more about interactive tables.';\n",
              "        element.innerHTML = '';\n",
              "        dataTable['output_type'] = 'display_data';\n",
              "        await google.colab.output.renderOutput(dataTable, element);\n",
              "        const docLink = document.createElement('div');\n",
              "        docLink.innerHTML = docLinkHtml;\n",
              "        element.appendChild(docLink);\n",
              "      }\n",
              "    </script>\n",
              "  </div>\n",
              "\n",
              "\n",
              "<div id=\"df-66049d69-25db-4145-b3b4-5b56a579b709\">\n",
              "  <button class=\"colab-df-quickchart\" onclick=\"quickchart('df-66049d69-25db-4145-b3b4-5b56a579b709')\"\n",
              "            title=\"Suggest charts.\"\n",
              "            style=\"display:none;\">\n",
              "\n",
              "<svg xmlns=\"http://www.w3.org/2000/svg\" height=\"24px\"viewBox=\"0 0 24 24\"\n",
              "     width=\"24px\">\n",
              "    <g>\n",
              "        <path d=\"M19 3H5c-1.1 0-2 .9-2 2v14c0 1.1.9 2 2 2h14c1.1 0 2-.9 2-2V5c0-1.1-.9-2-2-2zM9 17H7v-7h2v7zm4 0h-2V7h2v10zm4 0h-2v-4h2v4z\"/>\n",
              "    </g>\n",
              "</svg>\n",
              "  </button>\n",
              "\n",
              "<style>\n",
              "  .colab-df-quickchart {\n",
              "      --bg-color: #E8F0FE;\n",
              "      --fill-color: #1967D2;\n",
              "      --hover-bg-color: #E2EBFA;\n",
              "      --hover-fill-color: #174EA6;\n",
              "      --disabled-fill-color: #AAA;\n",
              "      --disabled-bg-color: #DDD;\n",
              "  }\n",
              "\n",
              "  [theme=dark] .colab-df-quickchart {\n",
              "      --bg-color: #3B4455;\n",
              "      --fill-color: #D2E3FC;\n",
              "      --hover-bg-color: #434B5C;\n",
              "      --hover-fill-color: #FFFFFF;\n",
              "      --disabled-bg-color: #3B4455;\n",
              "      --disabled-fill-color: #666;\n",
              "  }\n",
              "\n",
              "  .colab-df-quickchart {\n",
              "    background-color: var(--bg-color);\n",
              "    border: none;\n",
              "    border-radius: 50%;\n",
              "    cursor: pointer;\n",
              "    display: none;\n",
              "    fill: var(--fill-color);\n",
              "    height: 32px;\n",
              "    padding: 0;\n",
              "    width: 32px;\n",
              "  }\n",
              "\n",
              "  .colab-df-quickchart:hover {\n",
              "    background-color: var(--hover-bg-color);\n",
              "    box-shadow: 0 1px 2px rgba(60, 64, 67, 0.3), 0 1px 3px 1px rgba(60, 64, 67, 0.15);\n",
              "    fill: var(--button-hover-fill-color);\n",
              "  }\n",
              "\n",
              "  .colab-df-quickchart-complete:disabled,\n",
              "  .colab-df-quickchart-complete:disabled:hover {\n",
              "    background-color: var(--disabled-bg-color);\n",
              "    fill: var(--disabled-fill-color);\n",
              "    box-shadow: none;\n",
              "  }\n",
              "\n",
              "  .colab-df-spinner {\n",
              "    border: 2px solid var(--fill-color);\n",
              "    border-color: transparent;\n",
              "    border-bottom-color: var(--fill-color);\n",
              "    animation:\n",
              "      spin 1s steps(1) infinite;\n",
              "  }\n",
              "\n",
              "  @keyframes spin {\n",
              "    0% {\n",
              "      border-color: transparent;\n",
              "      border-bottom-color: var(--fill-color);\n",
              "      border-left-color: var(--fill-color);\n",
              "    }\n",
              "    20% {\n",
              "      border-color: transparent;\n",
              "      border-left-color: var(--fill-color);\n",
              "      border-top-color: var(--fill-color);\n",
              "    }\n",
              "    30% {\n",
              "      border-color: transparent;\n",
              "      border-left-color: var(--fill-color);\n",
              "      border-top-color: var(--fill-color);\n",
              "      border-right-color: var(--fill-color);\n",
              "    }\n",
              "    40% {\n",
              "      border-color: transparent;\n",
              "      border-right-color: var(--fill-color);\n",
              "      border-top-color: var(--fill-color);\n",
              "    }\n",
              "    60% {\n",
              "      border-color: transparent;\n",
              "      border-right-color: var(--fill-color);\n",
              "    }\n",
              "    80% {\n",
              "      border-color: transparent;\n",
              "      border-right-color: var(--fill-color);\n",
              "      border-bottom-color: var(--fill-color);\n",
              "    }\n",
              "    90% {\n",
              "      border-color: transparent;\n",
              "      border-bottom-color: var(--fill-color);\n",
              "    }\n",
              "  }\n",
              "</style>\n",
              "\n",
              "  <script>\n",
              "    async function quickchart(key) {\n",
              "      const quickchartButtonEl =\n",
              "        document.querySelector('#' + key + ' button');\n",
              "      quickchartButtonEl.disabled = true;  // To prevent multiple clicks.\n",
              "      quickchartButtonEl.classList.add('colab-df-spinner');\n",
              "      try {\n",
              "        const charts = await google.colab.kernel.invokeFunction(\n",
              "            'suggestCharts', [key], {});\n",
              "      } catch (error) {\n",
              "        console.error('Error during call to suggestCharts:', error);\n",
              "      }\n",
              "      quickchartButtonEl.classList.remove('colab-df-spinner');\n",
              "      quickchartButtonEl.classList.add('colab-df-quickchart-complete');\n",
              "    }\n",
              "    (() => {\n",
              "      let quickchartButtonEl =\n",
              "        document.querySelector('#df-66049d69-25db-4145-b3b4-5b56a579b709 button');\n",
              "      quickchartButtonEl.style.display =\n",
              "        google.colab.kernel.accessAllowed ? 'block' : 'none';\n",
              "    })();\n",
              "  </script>\n",
              "</div>\n",
              "    </div>\n",
              "  </div>\n"
            ]
          },
          "metadata": {},
          "execution_count": 18
        }
      ]
    },
    {
      "cell_type": "code",
      "source": [
        "df_test.head()"
      ],
      "metadata": {
        "colab": {
          "base_uri": "https://localhost:8080/",
          "height": 622
        },
        "id": "b-jUky2RSEp-",
        "outputId": "7e440320-78f6-4446-b423-7c8ce57576d2"
      },
      "execution_count": null,
      "outputs": [
        {
          "output_type": "execute_result",
          "data": {
            "text/plain": [
              "        S.No  \\\n",
              "0  HATE_4271   \n",
              "1  HATE_4977   \n",
              "2  HATE_4321   \n",
              "3  HATE_4444   \n",
              "4  HATE_1594   \n",
              "\n",
              "                                                                                                                                                                                              Comments  \\\n",
              "0                                                                                                                                 \\nవిజయ్ దేవరకొండ గురించి చెప్పింది చాలా పర్ఫెక్ట్ గా చెప్పారు మేడమ్.   \n",
              "1                                                                                                                                         నిన్ను కూడా ఎవరు నమ్మరు . మీ నాయకుడు గురించి కూడ నమ్మకం లేదు   \n",
              "2  \"కెజియఫ్\" మనిషి ఒంటరివాడైనా ధైర్యంగా పరిస్థితులతో పోరాడి బతకగలిగేంత ధైర్యం ఇచ్చే సినిమా.\"కాంతారా\" మనిషి ధైర్యవంతుడు, అందరూ ఉన్నవాడైనా మూఢనమ్మకాల పేరుతో మనిషిలో ఉన్న ధైర్యాన్ని  నాశనం చేసే సినిమా.   \n",
              "3                                                                                                            0 pellillu chesukoni padimandini kanakoodadu.janabha yimka perigite yimti stalalu chalavu   \n",
              "4                                  100% literacy rate unna kerala lo ne janalu gorrelu la unte, migilin rashtrallo unna janalu paristhiti emito...... I feel ashamed being part of this type of public   \n",
              "\n",
              "      Label  \\\n",
              "0  non-hate   \n",
              "1      hate   \n",
              "2  non-hate   \n",
              "3  non-hate   \n",
              "4      hate   \n",
              "\n",
              "                                                                                                                                           clean_data_Comments  \\\n",
              "0                                                                                                                       వజయ దవరకడ గరచ చపపద చల పరఫకట గ చపపర మడమ   \n",
              "1                                                                                                                        ననన కడ ఎవర నమమర మ నయకడ గరచ కడ నమమక లద   \n",
              "2                                          కజయఫ మనష ఒటరవడన ధరయగ పరసథతలత పరడ బతకగలగత ధరయ ఇచచ సనమకతర మనష ధరయవతడ అదర ఉననవడన మఢనమమకల పరత మనషల ఉనన ధరయనన నశన చస సనమ   \n",
              "3                                                                     0 pellillu chesukoni padimandini kanakoodadujanabha yimka perigite yimti stalalu chalavu   \n",
              "4  100 literacy rate unna kerala lo ne janalu gorrelu la unte migilin rashtrallo unna janalu paristhiti emito I feel ashamed being part of this type of public   \n",
              "\n",
              "  lang_type  \\\n",
              "0   Unknown   \n",
              "1   Unknown   \n",
              "2   Unknown   \n",
              "3   Unknown   \n",
              "4   Unknown   \n",
              "\n",
              "                                                                                                                                                                        tokenized_comments  \n",
              "0                                                                                                                                         [వజయ, దవరకడ, గరచ, చపపద, చల, పరఫకట, గ, చపపర, మడమ]  \n",
              "1                                                                                                                                         [ననన, కడ, ఎవర, నమమర, మ, నయకడ, గరచ, కడ, నమమక, లద]  \n",
              "2                                               [కజయఫ, మనష, ఒటరవడన, ధరయగ, పరసథతలత, పరడ, బతకగలగత, ధరయ, ఇచచ, సనమకతర, మనష, ధరయవతడ, అదర, ఉననవడన, మఢనమమకల, పరత, మనషల, ఉనన, ధరయనన, నశన, చస, సనమ]  \n",
              "3                                                                                      [0, pellillu, chesukoni, padimandini, kanakoodadujanabha, yimka, perigite, yimti, stalalu, chalavu]  \n",
              "4  [100, literacy, rate, unna, kerala, lo, ne, janalu, gorrelu, la, unte, migilin, rashtrallo, unna, janalu, paristhiti, emito, I, feel, ashamed, being, part, of, this, type, of, public]  "
            ],
            "text/html": [
              "\n",
              "  <div id=\"df-940cc221-4fb9-46d2-9d19-9c19a9c85ff1\" class=\"colab-df-container\">\n",
              "    <div>\n",
              "<style scoped>\n",
              "    .dataframe tbody tr th:only-of-type {\n",
              "        vertical-align: middle;\n",
              "    }\n",
              "\n",
              "    .dataframe tbody tr th {\n",
              "        vertical-align: top;\n",
              "    }\n",
              "\n",
              "    .dataframe thead th {\n",
              "        text-align: right;\n",
              "    }\n",
              "</style>\n",
              "<table border=\"1\" class=\"dataframe\">\n",
              "  <thead>\n",
              "    <tr style=\"text-align: right;\">\n",
              "      <th></th>\n",
              "      <th>S.No</th>\n",
              "      <th>Comments</th>\n",
              "      <th>Label</th>\n",
              "      <th>clean_data_Comments</th>\n",
              "      <th>lang_type</th>\n",
              "      <th>tokenized_comments</th>\n",
              "    </tr>\n",
              "  </thead>\n",
              "  <tbody>\n",
              "    <tr>\n",
              "      <th>0</th>\n",
              "      <td>HATE_4271</td>\n",
              "      <td>\\nవిజయ్ దేవరకొండ గురించి చెప్పింది చాలా పర్ఫెక్ట్ గా చెప్పారు మేడమ్.</td>\n",
              "      <td>non-hate</td>\n",
              "      <td>వజయ దవరకడ గరచ చపపద చల పరఫకట గ చపపర మడమ</td>\n",
              "      <td>Unknown</td>\n",
              "      <td>[వజయ, దవరకడ, గరచ, చపపద, చల, పరఫకట, గ, చపపర, మడమ]</td>\n",
              "    </tr>\n",
              "    <tr>\n",
              "      <th>1</th>\n",
              "      <td>HATE_4977</td>\n",
              "      <td>నిన్ను కూడా ఎవరు నమ్మరు . మీ నాయకుడు గురించి కూడ నమ్మకం లేదు</td>\n",
              "      <td>hate</td>\n",
              "      <td>ననన కడ ఎవర నమమర మ నయకడ గరచ కడ నమమక లద</td>\n",
              "      <td>Unknown</td>\n",
              "      <td>[ననన, కడ, ఎవర, నమమర, మ, నయకడ, గరచ, కడ, నమమక, లద]</td>\n",
              "    </tr>\n",
              "    <tr>\n",
              "      <th>2</th>\n",
              "      <td>HATE_4321</td>\n",
              "      <td>\"కెజియఫ్\" మనిషి ఒంటరివాడైనా ధైర్యంగా పరిస్థితులతో పోరాడి బతకగలిగేంత ధైర్యం ఇచ్చే సినిమా.\"కాంతారా\" మనిషి ధైర్యవంతుడు, అందరూ ఉన్నవాడైనా మూఢనమ్మకాల పేరుతో మనిషిలో ఉన్న ధైర్యాన్ని  నాశనం చేసే సినిమా.</td>\n",
              "      <td>non-hate</td>\n",
              "      <td>కజయఫ మనష ఒటరవడన ధరయగ పరసథతలత పరడ బతకగలగత ధరయ ఇచచ సనమకతర మనష ధరయవతడ అదర ఉననవడన మఢనమమకల పరత మనషల ఉనన ధరయనన నశన చస సనమ</td>\n",
              "      <td>Unknown</td>\n",
              "      <td>[కజయఫ, మనష, ఒటరవడన, ధరయగ, పరసథతలత, పరడ, బతకగలగత, ధరయ, ఇచచ, సనమకతర, మనష, ధరయవతడ, అదర, ఉననవడన, మఢనమమకల, పరత, మనషల, ఉనన, ధరయనన, నశన, చస, సనమ]</td>\n",
              "    </tr>\n",
              "    <tr>\n",
              "      <th>3</th>\n",
              "      <td>HATE_4444</td>\n",
              "      <td>0 pellillu chesukoni padimandini kanakoodadu.janabha yimka perigite yimti stalalu chalavu</td>\n",
              "      <td>non-hate</td>\n",
              "      <td>0 pellillu chesukoni padimandini kanakoodadujanabha yimka perigite yimti stalalu chalavu</td>\n",
              "      <td>Unknown</td>\n",
              "      <td>[0, pellillu, chesukoni, padimandini, kanakoodadujanabha, yimka, perigite, yimti, stalalu, chalavu]</td>\n",
              "    </tr>\n",
              "    <tr>\n",
              "      <th>4</th>\n",
              "      <td>HATE_1594</td>\n",
              "      <td>100% literacy rate unna kerala lo ne janalu gorrelu la unte, migilin rashtrallo unna janalu paristhiti emito...... I feel ashamed being part of this type of public</td>\n",
              "      <td>hate</td>\n",
              "      <td>100 literacy rate unna kerala lo ne janalu gorrelu la unte migilin rashtrallo unna janalu paristhiti emito I feel ashamed being part of this type of public</td>\n",
              "      <td>Unknown</td>\n",
              "      <td>[100, literacy, rate, unna, kerala, lo, ne, janalu, gorrelu, la, unte, migilin, rashtrallo, unna, janalu, paristhiti, emito, I, feel, ashamed, being, part, of, this, type, of, public]</td>\n",
              "    </tr>\n",
              "  </tbody>\n",
              "</table>\n",
              "</div>\n",
              "    <div class=\"colab-df-buttons\">\n",
              "\n",
              "  <div class=\"colab-df-container\">\n",
              "    <button class=\"colab-df-convert\" onclick=\"convertToInteractive('df-940cc221-4fb9-46d2-9d19-9c19a9c85ff1')\"\n",
              "            title=\"Convert this dataframe to an interactive table.\"\n",
              "            style=\"display:none;\">\n",
              "\n",
              "  <svg xmlns=\"http://www.w3.org/2000/svg\" height=\"24px\" viewBox=\"0 -960 960 960\">\n",
              "    <path d=\"M120-120v-720h720v720H120Zm60-500h600v-160H180v160Zm220 220h160v-160H400v160Zm0 220h160v-160H400v160ZM180-400h160v-160H180v160Zm440 0h160v-160H620v160ZM180-180h160v-160H180v160Zm440 0h160v-160H620v160Z\"/>\n",
              "  </svg>\n",
              "    </button>\n",
              "\n",
              "  <style>\n",
              "    .colab-df-container {\n",
              "      display:flex;\n",
              "      gap: 12px;\n",
              "    }\n",
              "\n",
              "    .colab-df-convert {\n",
              "      background-color: #E8F0FE;\n",
              "      border: none;\n",
              "      border-radius: 50%;\n",
              "      cursor: pointer;\n",
              "      display: none;\n",
              "      fill: #1967D2;\n",
              "      height: 32px;\n",
              "      padding: 0 0 0 0;\n",
              "      width: 32px;\n",
              "    }\n",
              "\n",
              "    .colab-df-convert:hover {\n",
              "      background-color: #E2EBFA;\n",
              "      box-shadow: 0px 1px 2px rgba(60, 64, 67, 0.3), 0px 1px 3px 1px rgba(60, 64, 67, 0.15);\n",
              "      fill: #174EA6;\n",
              "    }\n",
              "\n",
              "    .colab-df-buttons div {\n",
              "      margin-bottom: 4px;\n",
              "    }\n",
              "\n",
              "    [theme=dark] .colab-df-convert {\n",
              "      background-color: #3B4455;\n",
              "      fill: #D2E3FC;\n",
              "    }\n",
              "\n",
              "    [theme=dark] .colab-df-convert:hover {\n",
              "      background-color: #434B5C;\n",
              "      box-shadow: 0px 1px 3px 1px rgba(0, 0, 0, 0.15);\n",
              "      filter: drop-shadow(0px 1px 2px rgba(0, 0, 0, 0.3));\n",
              "      fill: #FFFFFF;\n",
              "    }\n",
              "  </style>\n",
              "\n",
              "    <script>\n",
              "      const buttonEl =\n",
              "        document.querySelector('#df-940cc221-4fb9-46d2-9d19-9c19a9c85ff1 button.colab-df-convert');\n",
              "      buttonEl.style.display =\n",
              "        google.colab.kernel.accessAllowed ? 'block' : 'none';\n",
              "\n",
              "      async function convertToInteractive(key) {\n",
              "        const element = document.querySelector('#df-940cc221-4fb9-46d2-9d19-9c19a9c85ff1');\n",
              "        const dataTable =\n",
              "          await google.colab.kernel.invokeFunction('convertToInteractive',\n",
              "                                                    [key], {});\n",
              "        if (!dataTable) return;\n",
              "\n",
              "        const docLinkHtml = 'Like what you see? Visit the ' +\n",
              "          '<a target=\"_blank\" href=https://colab.research.google.com/notebooks/data_table.ipynb>data table notebook</a>'\n",
              "          + ' to learn more about interactive tables.';\n",
              "        element.innerHTML = '';\n",
              "        dataTable['output_type'] = 'display_data';\n",
              "        await google.colab.output.renderOutput(dataTable, element);\n",
              "        const docLink = document.createElement('div');\n",
              "        docLink.innerHTML = docLinkHtml;\n",
              "        element.appendChild(docLink);\n",
              "      }\n",
              "    </script>\n",
              "  </div>\n",
              "\n",
              "\n",
              "<div id=\"df-a19c60d0-7bff-4de2-8c68-f0146056cda8\">\n",
              "  <button class=\"colab-df-quickchart\" onclick=\"quickchart('df-a19c60d0-7bff-4de2-8c68-f0146056cda8')\"\n",
              "            title=\"Suggest charts.\"\n",
              "            style=\"display:none;\">\n",
              "\n",
              "<svg xmlns=\"http://www.w3.org/2000/svg\" height=\"24px\"viewBox=\"0 0 24 24\"\n",
              "     width=\"24px\">\n",
              "    <g>\n",
              "        <path d=\"M19 3H5c-1.1 0-2 .9-2 2v14c0 1.1.9 2 2 2h14c1.1 0 2-.9 2-2V5c0-1.1-.9-2-2-2zM9 17H7v-7h2v7zm4 0h-2V7h2v10zm4 0h-2v-4h2v4z\"/>\n",
              "    </g>\n",
              "</svg>\n",
              "  </button>\n",
              "\n",
              "<style>\n",
              "  .colab-df-quickchart {\n",
              "      --bg-color: #E8F0FE;\n",
              "      --fill-color: #1967D2;\n",
              "      --hover-bg-color: #E2EBFA;\n",
              "      --hover-fill-color: #174EA6;\n",
              "      --disabled-fill-color: #AAA;\n",
              "      --disabled-bg-color: #DDD;\n",
              "  }\n",
              "\n",
              "  [theme=dark] .colab-df-quickchart {\n",
              "      --bg-color: #3B4455;\n",
              "      --fill-color: #D2E3FC;\n",
              "      --hover-bg-color: #434B5C;\n",
              "      --hover-fill-color: #FFFFFF;\n",
              "      --disabled-bg-color: #3B4455;\n",
              "      --disabled-fill-color: #666;\n",
              "  }\n",
              "\n",
              "  .colab-df-quickchart {\n",
              "    background-color: var(--bg-color);\n",
              "    border: none;\n",
              "    border-radius: 50%;\n",
              "    cursor: pointer;\n",
              "    display: none;\n",
              "    fill: var(--fill-color);\n",
              "    height: 32px;\n",
              "    padding: 0;\n",
              "    width: 32px;\n",
              "  }\n",
              "\n",
              "  .colab-df-quickchart:hover {\n",
              "    background-color: var(--hover-bg-color);\n",
              "    box-shadow: 0 1px 2px rgba(60, 64, 67, 0.3), 0 1px 3px 1px rgba(60, 64, 67, 0.15);\n",
              "    fill: var(--button-hover-fill-color);\n",
              "  }\n",
              "\n",
              "  .colab-df-quickchart-complete:disabled,\n",
              "  .colab-df-quickchart-complete:disabled:hover {\n",
              "    background-color: var(--disabled-bg-color);\n",
              "    fill: var(--disabled-fill-color);\n",
              "    box-shadow: none;\n",
              "  }\n",
              "\n",
              "  .colab-df-spinner {\n",
              "    border: 2px solid var(--fill-color);\n",
              "    border-color: transparent;\n",
              "    border-bottom-color: var(--fill-color);\n",
              "    animation:\n",
              "      spin 1s steps(1) infinite;\n",
              "  }\n",
              "\n",
              "  @keyframes spin {\n",
              "    0% {\n",
              "      border-color: transparent;\n",
              "      border-bottom-color: var(--fill-color);\n",
              "      border-left-color: var(--fill-color);\n",
              "    }\n",
              "    20% {\n",
              "      border-color: transparent;\n",
              "      border-left-color: var(--fill-color);\n",
              "      border-top-color: var(--fill-color);\n",
              "    }\n",
              "    30% {\n",
              "      border-color: transparent;\n",
              "      border-left-color: var(--fill-color);\n",
              "      border-top-color: var(--fill-color);\n",
              "      border-right-color: var(--fill-color);\n",
              "    }\n",
              "    40% {\n",
              "      border-color: transparent;\n",
              "      border-right-color: var(--fill-color);\n",
              "      border-top-color: var(--fill-color);\n",
              "    }\n",
              "    60% {\n",
              "      border-color: transparent;\n",
              "      border-right-color: var(--fill-color);\n",
              "    }\n",
              "    80% {\n",
              "      border-color: transparent;\n",
              "      border-right-color: var(--fill-color);\n",
              "      border-bottom-color: var(--fill-color);\n",
              "    }\n",
              "    90% {\n",
              "      border-color: transparent;\n",
              "      border-bottom-color: var(--fill-color);\n",
              "    }\n",
              "  }\n",
              "</style>\n",
              "\n",
              "  <script>\n",
              "    async function quickchart(key) {\n",
              "      const quickchartButtonEl =\n",
              "        document.querySelector('#' + key + ' button');\n",
              "      quickchartButtonEl.disabled = true;  // To prevent multiple clicks.\n",
              "      quickchartButtonEl.classList.add('colab-df-spinner');\n",
              "      try {\n",
              "        const charts = await google.colab.kernel.invokeFunction(\n",
              "            'suggestCharts', [key], {});\n",
              "      } catch (error) {\n",
              "        console.error('Error during call to suggestCharts:', error);\n",
              "      }\n",
              "      quickchartButtonEl.classList.remove('colab-df-spinner');\n",
              "      quickchartButtonEl.classList.add('colab-df-quickchart-complete');\n",
              "    }\n",
              "    (() => {\n",
              "      let quickchartButtonEl =\n",
              "        document.querySelector('#df-a19c60d0-7bff-4de2-8c68-f0146056cda8 button');\n",
              "      quickchartButtonEl.style.display =\n",
              "        google.colab.kernel.accessAllowed ? 'block' : 'none';\n",
              "    })();\n",
              "  </script>\n",
              "</div>\n",
              "    </div>\n",
              "  </div>\n"
            ]
          },
          "metadata": {},
          "execution_count": 19
        }
      ]
    },
    {
      "cell_type": "code",
      "source": [
        "df_train.to_excel(\"/content/train_data_basic_preprocessed.xlsx\", index=False, engine='openpyxl')\n",
        "df_test.to_excel(\"/content/test_data_basic_preprocessed.xlsx\", index=False, engine='openpyxl')"
      ],
      "metadata": {
        "id": "Ko1ZSPYVQSNQ"
      },
      "execution_count": null,
      "outputs": []
    }
  ]
}
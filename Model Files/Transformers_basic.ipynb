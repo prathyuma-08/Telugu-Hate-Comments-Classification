{
  "nbformat": 4,
  "nbformat_minor": 0,
  "metadata": {
    "colab": {
      "provenance": []
    },
    "kernelspec": {
      "name": "python3",
      "display_name": "Python 3"
    },
    "language_info": {
      "name": "python"
    }
  },
  "cells": [
    {
      "cell_type": "markdown",
      "source": [
        "#Basic preprocessed\n"
      ],
      "metadata": {
        "id": "jTX2fxhf0aF0"
      }
    },
    {
      "cell_type": "code",
      "execution_count": null,
      "metadata": {
        "colab": {
          "base_uri": "https://localhost:8080/"
        },
        "id": "cVS8vV0oWHmK",
        "outputId": "0036d1ee-5836-45fe-b260-3efeb02875ad"
      },
      "outputs": [
        {
          "output_type": "stream",
          "name": "stdout",
          "text": [
            "Model: \"model\"\n",
            "__________________________________________________________________________________________________\n",
            " Layer (type)                Output Shape                 Param #   Connected to                  \n",
            "==================================================================================================\n",
            " input_1 (InputLayer)        [(None, 128)]                0         []                            \n",
            "                                                                                                  \n",
            " embedding (Embedding)       (None, 128, 128)             1280000   ['input_1[0][0]']             \n",
            "                                                                                                  \n",
            " tf.math.multiply (TFOpLamb  (None, 128, 128)             0         ['embedding[0][0]']           \n",
            " da)                                                                                              \n",
            "                                                                                                  \n",
            " multi_head_attention (Mult  (None, 128, 128)             66048     ['tf.math.multiply[0][0]',    \n",
            " iHeadAttention)                                                     'tf.math.multiply[0][0]']    \n",
            "                                                                                                  \n",
            " dropout (Dropout)           (None, 128, 128)             0         ['multi_head_attention[0][0]']\n",
            "                                                                                                  \n",
            " tf.__operators__.add (TFOp  (None, 128, 128)             0         ['tf.math.multiply[0][0]',    \n",
            " Lambda)                                                             'dropout[0][0]']             \n",
            "                                                                                                  \n",
            " layer_normalization (Layer  (None, 128, 128)             256       ['tf.__operators__.add[0][0]']\n",
            " Normalization)                                                                                   \n",
            "                                                                                                  \n",
            " dense (Dense)               (None, 128, 256)             33024     ['layer_normalization[0][0]'] \n",
            "                                                                                                  \n",
            " dense_1 (Dense)             (None, 128, 128)             32896     ['dense[0][0]']               \n",
            "                                                                                                  \n",
            " dropout_1 (Dropout)         (None, 128, 128)             0         ['dense_1[0][0]']             \n",
            "                                                                                                  \n",
            " tf.__operators__.add_1 (TF  (None, 128, 128)             0         ['layer_normalization[0][0]', \n",
            " OpLambda)                                                           'dropout_1[0][0]']           \n",
            "                                                                                                  \n",
            " layer_normalization_1 (Lay  (None, 128, 128)             256       ['tf.__operators__.add_1[0][0]\n",
            " erNormalization)                                                   ']                            \n",
            "                                                                                                  \n",
            " multi_head_attention_1 (Mu  (None, 128, 128)             66048     ['layer_normalization_1[0][0]'\n",
            " ltiHeadAttention)                                                  , 'layer_normalization_1[0][0]\n",
            "                                                                    ']                            \n",
            "                                                                                                  \n",
            " dropout_2 (Dropout)         (None, 128, 128)             0         ['multi_head_attention_1[0][0]\n",
            "                                                                    ']                            \n",
            "                                                                                                  \n",
            " tf.__operators__.add_2 (TF  (None, 128, 128)             0         ['layer_normalization_1[0][0]'\n",
            " OpLambda)                                                          , 'dropout_2[0][0]']          \n",
            "                                                                                                  \n",
            " layer_normalization_2 (Lay  (None, 128, 128)             256       ['tf.__operators__.add_2[0][0]\n",
            " erNormalization)                                                   ']                            \n",
            "                                                                                                  \n",
            " dense_2 (Dense)             (None, 128, 256)             33024     ['layer_normalization_2[0][0]'\n",
            "                                                                    ]                             \n",
            "                                                                                                  \n",
            " dense_3 (Dense)             (None, 128, 128)             32896     ['dense_2[0][0]']             \n",
            "                                                                                                  \n",
            " dropout_3 (Dropout)         (None, 128, 128)             0         ['dense_3[0][0]']             \n",
            "                                                                                                  \n",
            " tf.__operators__.add_3 (TF  (None, 128, 128)             0         ['layer_normalization_2[0][0]'\n",
            " OpLambda)                                                          , 'dropout_3[0][0]']          \n",
            "                                                                                                  \n",
            " layer_normalization_3 (Lay  (None, 128, 128)             256       ['tf.__operators__.add_3[0][0]\n",
            " erNormalization)                                                   ']                            \n",
            "                                                                                                  \n",
            " multi_head_attention_2 (Mu  (None, 128, 128)             66048     ['layer_normalization_3[0][0]'\n",
            " ltiHeadAttention)                                                  , 'layer_normalization_3[0][0]\n",
            "                                                                    ']                            \n",
            "                                                                                                  \n",
            " dropout_4 (Dropout)         (None, 128, 128)             0         ['multi_head_attention_2[0][0]\n",
            "                                                                    ']                            \n",
            "                                                                                                  \n",
            " tf.__operators__.add_4 (TF  (None, 128, 128)             0         ['layer_normalization_3[0][0]'\n",
            " OpLambda)                                                          , 'dropout_4[0][0]']          \n",
            "                                                                                                  \n",
            " layer_normalization_4 (Lay  (None, 128, 128)             256       ['tf.__operators__.add_4[0][0]\n",
            " erNormalization)                                                   ']                            \n",
            "                                                                                                  \n",
            " dense_4 (Dense)             (None, 128, 256)             33024     ['layer_normalization_4[0][0]'\n",
            "                                                                    ]                             \n",
            "                                                                                                  \n",
            " dense_5 (Dense)             (None, 128, 128)             32896     ['dense_4[0][0]']             \n",
            "                                                                                                  \n",
            " dropout_5 (Dropout)         (None, 128, 128)             0         ['dense_5[0][0]']             \n",
            "                                                                                                  \n",
            " tf.__operators__.add_5 (TF  (None, 128, 128)             0         ['layer_normalization_4[0][0]'\n",
            " OpLambda)                                                          , 'dropout_5[0][0]']          \n",
            "                                                                                                  \n",
            " layer_normalization_5 (Lay  (None, 128, 128)             256       ['tf.__operators__.add_5[0][0]\n",
            " erNormalization)                                                   ']                            \n",
            "                                                                                                  \n",
            " multi_head_attention_3 (Mu  (None, 128, 128)             66048     ['layer_normalization_5[0][0]'\n",
            " ltiHeadAttention)                                                  , 'layer_normalization_5[0][0]\n",
            "                                                                    ']                            \n",
            "                                                                                                  \n",
            " dropout_6 (Dropout)         (None, 128, 128)             0         ['multi_head_attention_3[0][0]\n",
            "                                                                    ']                            \n",
            "                                                                                                  \n",
            " tf.__operators__.add_6 (TF  (None, 128, 128)             0         ['layer_normalization_5[0][0]'\n",
            " OpLambda)                                                          , 'dropout_6[0][0]']          \n",
            "                                                                                                  \n",
            " layer_normalization_6 (Lay  (None, 128, 128)             256       ['tf.__operators__.add_6[0][0]\n",
            " erNormalization)                                                   ']                            \n",
            "                                                                                                  \n",
            " dense_6 (Dense)             (None, 128, 256)             33024     ['layer_normalization_6[0][0]'\n",
            "                                                                    ]                             \n",
            "                                                                                                  \n",
            " dense_7 (Dense)             (None, 128, 128)             32896     ['dense_6[0][0]']             \n",
            "                                                                                                  \n",
            " dropout_7 (Dropout)         (None, 128, 128)             0         ['dense_7[0][0]']             \n",
            "                                                                                                  \n",
            " tf.__operators__.add_7 (TF  (None, 128, 128)             0         ['layer_normalization_6[0][0]'\n",
            " OpLambda)                                                          , 'dropout_7[0][0]']          \n",
            "                                                                                                  \n",
            " layer_normalization_7 (Lay  (None, 128, 128)             256       ['tf.__operators__.add_7[0][0]\n",
            " erNormalization)                                                   ']                            \n",
            "                                                                                                  \n",
            " global_average_pooling1d (  (None, 128)                  0         ['layer_normalization_7[0][0]'\n",
            " GlobalAveragePooling1D)                                            ]                             \n",
            "                                                                                                  \n",
            " dense_8 (Dense)             (None, 2)                    258       ['global_average_pooling1d[0][\n",
            "                                                                    0]']                          \n",
            "                                                                                                  \n",
            "==================================================================================================\n",
            "Total params: 1810178 (6.91 MB)\n",
            "Trainable params: 1810178 (6.91 MB)\n",
            "Non-trainable params: 0 (0.00 Byte)\n",
            "__________________________________________________________________________________________________\n"
          ]
        }
      ],
      "source": [
        "import tensorflow as tf\n",
        "from tensorflow import keras\n",
        "from tensorflow.keras import layers\n",
        "\n",
        "# Define a PositionalEncoding layer for the Transformer\n",
        "# Define a PositionalEncoding layer for the Transformer\n",
        "class PositionalEncoding(layers.Layer):\n",
        "    def __init__(self, max_seq_length, d_model):\n",
        "        super(PositionalEncoding, self).__init__()\n",
        "        self.pos_encoding = self.positional_encoding(max_seq_length, d_model)\n",
        "\n",
        "    def call(self, inputs):\n",
        "        return inputs + self.pos_encoding\n",
        "\n",
        "    def get_angles(self, pos, i, d_model):\n",
        "        angle_rates = 1 / tf.math.pow(10000, (2 * (i // 2) / tf.cast(d_model, dtype=tf.float32)))\n",
        "        return pos * angle_rates\n",
        "\n",
        "    def positional_encoding(self, max_seq_length, d_model):\n",
        "        angle_rads = self.get_angles(tf.range(max_seq_length)[:, tf.newaxis], tf.range(d_model)[tf.newaxis, :], d_model)\n",
        "        sines = tf.math.sin(angle_rads[:, 0::2])  # Apply sin to even indices\n",
        "        cosines = tf.math.cos(angle_rads[:, 1::2])  # Apply cos to odd indices\n",
        "\n",
        "        pos_encoding = tf.concat([sines, cosines], axis=-1)\n",
        "        pos_encoding = pos_encoding[tf.newaxis, ...]\n",
        "        return tf.cast(pos_encoding, dtype=tf.float32)\n",
        "\n",
        "# Define the Transformer encoder model with dropout and normalization\n",
        "def transformer_encoder(max_seq_length, vocab_size, num_classes, d_model=128, num_heads=8, num_layers=4, dff=256, rate=0.1):\n",
        "    inputs = keras.Input(shape=(max_seq_length,))\n",
        "\n",
        "    # Add an embedding layer\n",
        "    x = layers.Embedding(vocab_size, d_model)(inputs)\n",
        "    x *= tf.math.sqrt(tf.cast(d_model, tf.float32))\n",
        "    #x = PositionalEncoding(trainable=False)(x)\n",
        "\n",
        "    # Transformer Encoder layers\n",
        "    for _ in range(num_layers):\n",
        "        # Multi-Head Attention\n",
        "        attn_output = layers.MultiHeadAttention(num_heads=num_heads, key_dim=d_model // num_heads)(x, x)\n",
        "        attn_output = layers.Dropout(rate)(attn_output)\n",
        "        out1 = layers.LayerNormalization(epsilon=1e-6)(x + attn_output)\n",
        "\n",
        "        # Feedforward\n",
        "        ffn_output = layers.Dense(dff, activation=\"relu\")(out1)\n",
        "        ffn_output = layers.Dense(d_model)(ffn_output)\n",
        "        ffn_output = layers.Dropout(rate)(ffn_output)\n",
        "        out2 = layers.LayerNormalization(epsilon=1e-6)(out1 + ffn_output)\n",
        "\n",
        "        x = out2\n",
        "\n",
        "    # Global average pooling\n",
        "    x = layers.GlobalAveragePooling1D()(x)\n",
        "\n",
        "    # Output layer\n",
        "    outputs = layers.Dense(num_classes, activation=\"softmax\")(x)\n",
        "\n",
        "    return keras.Model(inputs, outputs)\n",
        "\n",
        "# Example usage:\n",
        "max_seq_length = 128  # Maximum sequence length\n",
        "vocab_size = 10000  # Define your vocabulary size\n",
        "num_classes = 2  # Number of classes\n",
        "\n",
        "model = transformer_encoder(max_seq_length, vocab_size, num_classes)\n",
        "model.summary()"
      ]
    },
    {
      "cell_type": "code",
      "source": [
        "import pandas as pd\n",
        "import numpy as np\n",
        "from sklearn.model_selection import train_test_split\n",
        "from sklearn.preprocessing import LabelEncoder\n",
        "from tensorflow.keras.preprocessing.text import Tokenizer\n",
        "from tensorflow.keras.preprocessing.sequence import pad_sequences\n",
        "\n",
        "# Load your dataset from a CSV file\n",
        "# Load your dataset from an Excel file\n",
        "df = pd.read_excel(\"train_data_basic_preprocessed.xlsx\")\n",
        "\n",
        "# Extract text and labels\n",
        "texts = df[\"tokenized_comments\"].tolist()\n",
        "labels = df[\"Label\"].tolist()\n",
        "\n",
        "# Define your vocabulary size\n",
        "vocab_size = 10000\n",
        "\n",
        "# Tokenize the text data and pad it\n",
        "max_seq_length = 128  # Maximum sequence length\n",
        "tokenizer = Tokenizer(num_words=vocab_size, oov_token=\"<OOV>\")\n",
        "tokenizer.fit_on_texts(texts)\n",
        "sequences = tokenizer.texts_to_sequences(texts)\n",
        "X = pad_sequences(sequences, maxlen=max_seq_length, padding=\"post\", truncating=\"post\")\n",
        "\n",
        "# Encode the labels\n",
        "label_encoder = LabelEncoder()\n",
        "y = label_encoder.fit_transform(labels)\n",
        "\n",
        "# Split the data into training and validation sets\n",
        "X_train, X_val, y_train, y_val = train_test_split(X, y, test_size=0.2, random_state=42)"
      ],
      "metadata": {
        "id": "78G6_K7YXxMr"
      },
      "execution_count": null,
      "outputs": []
    },
    {
      "cell_type": "code",
      "source": [
        "# Compile the model\n",
        "model.compile(optimizer='adam', loss='sparse_categorical_crossentropy', metrics=['accuracy'])"
      ],
      "metadata": {
        "id": "bVeIEqe5afl2"
      },
      "execution_count": null,
      "outputs": []
    },
    {
      "cell_type": "code",
      "source": [
        "# Train the model\n",
        "batch_size = 64\n",
        "epochs = 5\n",
        "model.fit(X_train, y_train, validation_data=(X_val, y_val), batch_size=batch_size, epochs=epochs)\n"
      ],
      "metadata": {
        "colab": {
          "base_uri": "https://localhost:8080/"
        },
        "id": "-jssxIFxa7k3",
        "outputId": "98812fe2-b104-45d8-a265-0271fdbf2a59"
      },
      "execution_count": null,
      "outputs": [
        {
          "output_type": "stream",
          "name": "stdout",
          "text": [
            "Epoch 1/5\n",
            "40/40 [==============================] - 88s 2s/step - loss: 0.9508 - accuracy: 0.5047 - val_loss: 0.6997 - val_accuracy: 0.4609\n",
            "Epoch 2/5\n",
            "40/40 [==============================] - 76s 2s/step - loss: 0.6965 - accuracy: 0.5234 - val_loss: 0.6806 - val_accuracy: 0.5391\n",
            "Epoch 3/5\n",
            "40/40 [==============================] - 75s 2s/step - loss: 0.4695 - accuracy: 0.7820 - val_loss: 0.6355 - val_accuracy: 0.7281\n",
            "Epoch 4/5\n",
            "40/40 [==============================] - 75s 2s/step - loss: 0.1671 - accuracy: 0.9395 - val_loss: 0.6982 - val_accuracy: 0.7281\n",
            "Epoch 5/5\n",
            "40/40 [==============================] - 80s 2s/step - loss: 0.0668 - accuracy: 0.9793 - val_loss: 0.9688 - val_accuracy: 0.7219\n"
          ]
        },
        {
          "output_type": "execute_result",
          "data": {
            "text/plain": [
              "<keras.src.callbacks.History at 0x7902671cdd20>"
            ]
          },
          "metadata": {},
          "execution_count": 8
        }
      ]
    },
    {
      "cell_type": "code",
      "source": [
        "# Load testing data from test.xlsx\n",
        "test_df = pd.read_excel(\"test_data_basic_preprocessed.xlsx\")\n",
        "\n",
        "# Extract text and labels\n",
        "test_texts = test_df[\"tokenized_comments\"].tolist()\n",
        "test_labels = test_df[\"Label\"].tolist()\n",
        "\n",
        "# Tokenize and pad the testing text data\n",
        "sequences = tokenizer.texts_to_sequences(test_texts)  # Use the tokenizer from training data\n",
        "X_test = pad_sequences(sequences, maxlen=max_seq_length, padding=\"post\", truncating=\"post\")\n",
        "\n",
        "# Encode the testing labels\n",
        "y_test = label_encoder.transform(test_labels)\n",
        "\n",
        "# Evaluate the model on the testing data\n",
        "test_loss, test_accuracy = model.evaluate(X_test, y_test)\n",
        "\n",
        "print(f\"Testing Accuracy: {test_accuracy * 100:.2f}%\")\n"
      ],
      "metadata": {
        "colab": {
          "base_uri": "https://localhost:8080/"
        },
        "id": "jkRjqpvZa-E1",
        "outputId": "588095cd-4af7-4d18-b2aa-223573bb9714"
      },
      "execution_count": null,
      "outputs": [
        {
          "output_type": "stream",
          "name": "stdout",
          "text": [
            "25/25 [==============================] - 10s 337ms/step - loss: 0.9494 - accuracy: 0.7175\n",
            "Testing Accuracy: 71.75%\n"
          ]
        }
      ]
    },
    {
      "cell_type": "code",
      "source": [
        "from sklearn.metrics import roc_curve, auc, confusion_matrix\n",
        "import matplotlib.pyplot as plt\n",
        "import seaborn as sns\n",
        "y_prob = model.predict(X_val)\n",
        "fpr, tpr, thresholds = roc_curve(y_val, y_prob[:, 1])\n",
        "roc_auc = auc(fpr, tpr)\n",
        "\n",
        "plt.figure(figsize=(8, 8))\n",
        "plt.plot(fpr, tpr, color='darkorange', lw=2, label='ROC curve (area = {:.2f})'.format(roc_auc))\n",
        "plt.plot([0, 1], [0, 1], color='navy', lw=2, linestyle='--')\n",
        "plt.xlabel('False Positive Rate')\n",
        "plt.ylabel('True Positive Rate')\n",
        "plt.title('Receiver Operating Characteristic (ROC) Curve')\n",
        "plt.legend(loc='lower right')\n",
        "plt.show()"
      ],
      "metadata": {
        "id": "w4fcDNWQvmbi",
        "colab": {
          "base_uri": "https://localhost:8080/",
          "height": 735
        },
        "outputId": "51053f8c-ef4c-45f2-f39d-e29b1772cd40"
      },
      "execution_count": null,
      "outputs": [
        {
          "output_type": "stream",
          "name": "stdout",
          "text": [
            "20/20 [==============================] - 9s 419ms/step\n"
          ]
        },
        {
          "output_type": "display_data",
          "data": {
            "text/plain": [
              "<Figure size 800x800 with 1 Axes>"
            ],
            "image/png": "[encoded data removed]"
          },
          "metadata": {}
        }
      ]
    },
    {
      "cell_type": "code",
      "source": [
        "y_prob = model.predict(X_test)\n",
        "y_pred = np.argmax(y_prob, axis=1)\n",
        "cm = confusion_matrix(y_test, y_pred)\n",
        "plt.figure(figsize=(8, 8))\n",
        "sns.heatmap(cm, annot=True, fmt='g', cmap='Blues', cbar=False)\n",
        "plt.xlabel('Predicted')\n",
        "plt.ylabel('True')\n",
        "plt.title('Confusion Matrix')\n",
        "plt.show()"
      ],
      "metadata": {
        "colab": {
          "base_uri": "https://localhost:8080/",
          "height": 735
        },
        "id": "HcwdBY0hyzaz",
        "outputId": "83e2c1a4-d5e9-4fac-d6dd-b6d77d44207b"
      },
      "execution_count": null,
      "outputs": [
        {
          "output_type": "stream",
          "name": "stdout",
          "text": [
            "25/25 [==============================] - 9s 339ms/step\n"
          ]
        },
        {
          "output_type": "display_data",
          "data": {
            "text/plain": [
              "<Figure size 800x800 with 1 Axes>"
            ],
            "image/png": "[encoded data removed]"
          },
          "metadata": {}
        }
      ]
    },
    {
      "cell_type": "code",
      "source": [
        "from sklearn.metrics import accuracy_score, precision_score, recall_score, f1_score\n",
        "import numpy as np"
      ],
      "metadata": {
        "id": "KHlfOeUt0rMx"
      },
      "execution_count": null,
      "outputs": []
    },
    {
      "cell_type": "code",
      "source": [
        "accuracy = accuracy_score(y_test, y_pred)\n",
        "precision = precision_score(y_test, y_pred, pos_label=0)\n",
        "recall = recall_score(y_test, y_pred, pos_label=0)\n",
        "f1 = f1_score(y_test, y_pred, pos_label=0)\n",
        "print(\"Accuracy:\", accuracy)\n",
        "print(\"Precision:\", precision)\n",
        "print(\"Recall:\",recall)\n",
        "print(\"F1-Score:\", f1)"
      ],
      "metadata": {
        "colab": {
          "base_uri": "https://localhost:8080/"
        },
        "id": "VqNF0z1vq2If",
        "outputId": "19c16bb6-90c2-45cc-8de8-7b040a09c163"
      },
      "execution_count": null,
      "outputs": [
        {
          "output_type": "stream",
          "name": "stdout",
          "text": [
            "Accuracy: 0.7175\n",
            "Precision: 0.7208121827411168\n",
            "Recall: 0.71\n",
            "F1-Score: 0.7153652392947102\n"
          ]
        }
      ]
    },
    {
      "cell_type": "code",
      "source": [],
      "metadata": {
        "id": "Y6ZbY8P2rJhG"
      },
      "execution_count": null,
      "outputs": []
    }
  ]
}